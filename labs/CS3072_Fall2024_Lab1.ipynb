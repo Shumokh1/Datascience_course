{
 "cells": [
  {
   "cell_type": "markdown",
   "id": "d29f9161",
   "metadata": {},
   "source": [
    "# Lab1: Python Basics\n",
    "\n",
    "### Instructions:\n",
    "\n",
    "sdf\n",
    "sdf\n",
    "sf"
   ]
  },
  {
   "cell_type": "markdown",
   "id": "b1dd46d4",
   "metadata": {},
   "source": [
    "#### 1. Land Calculation\n",
    "\n",
    "One acre of land is equivalent to 43,560 square feet. Write a program that asks the user to enter the total square feet in a farm of land and calculates the number of acres in the farm."
   ]
  },
  {
   "cell_type": "code",
   "execution_count": 90,
   "id": "fe91b22f",
   "metadata": {},
   "outputs": [
    {
     "name": "stdin",
     "output_type": "stream",
     "text": [
      "Enter in square feet: 43560\n"
     ]
    },
    {
     "name": "stdout",
     "output_type": "stream",
     "text": [
      "1.0\n"
     ]
    }
   ],
   "source": [
    "# Write your answer for Q1 here\n",
    "sq_ft= int(input(\"Enter in square feet:\"))\n",
    "acres=sq_ft/43560\n",
    "print(acres)\n"
   ]
  },
  {
   "cell_type": "markdown",
   "id": "5263220c",
   "metadata": {},
   "source": [
    "#### 2. Age Classifier\n",
    "\n",
    "Write a program that asks the user to enter a person’s age. The program should display a message indicating whether the person is an infant, a child, a teenager, or an adult. Following are the guidelines:\n",
    "\n",
    "•\tIf the person is 1 year old or less, he or she is an infant.\n",
    "•\tIf the person is older than 1 year, but younger than 13 years, he or she is a child.\n",
    "•\tIf the person is at least 13 years old, but less than 20 years old, he or she is a teenager.\n",
    "\n",
    "If the person is at least 20 years old, he or she is an adult.\n"
   ]
  },
  {
   "cell_type": "code",
   "execution_count": 92,
   "id": "b40219cf",
   "metadata": {},
   "outputs": [
    {
     "name": "stdin",
     "output_type": "stream",
     "text": [
      "Enter your age: 21\n"
     ]
    },
    {
     "name": "stdout",
     "output_type": "stream",
     "text": [
      "adult\n"
     ]
    }
   ],
   "source": [
    "# Write your answer for Q2 Here\n",
    "age= int(input(\"Enter your age:\"))\n",
    "if age<= 1:\n",
    "    print(\"infant\")\n",
    "elif 1<age<13:\n",
    "    print(\"child\")\n",
    "elif 13<= age < 20:\n",
    "    print(\"teenager\")\n",
    "elif age >= 20:\n",
    "    print(\"adult\")\n"
   ]
  },
  {
   "cell_type": "markdown",
   "id": "e3f4bd11",
   "metadata": {},
   "source": [
    "#### 3. Software Sales\n",
    "\n",
    "A software company sells a package that retails for $99. Quantity discounts are given according to the following table:\n",
    "\n",
    "| Quantity | Discount |\n",
    "| -------- | -------- |\n",
    "| 10-19    | 10%      |\n",
    "| 20-49    | 20%      |\n",
    "| 50-99    | 30%      |\n",
    "| 100 or < | 40%      |\n",
    "\n",
    "Write a program that asks the user to enter the number of packages purchased. The program should then display the amount of the discount (if any) and the total amount of the purchase after the discount.\n"
   ]
  },
  {
   "cell_type": "code",
   "execution_count": 125,
   "id": "198ca2cb",
   "metadata": {},
   "outputs": [
    {
     "name": "stdin",
     "output_type": "stream",
     "text": [
      "pkgs:  10\n"
     ]
    },
    {
     "name": "stdout",
     "output_type": "stream",
     "text": [
      "Discount is 10% and your purchase after discount= 891.0\n"
     ]
    }
   ],
   "source": [
    "# Write your answer for Q3 Here\n",
    "pkg = int (input(\"pkgs: \"))\n",
    "\n",
    "\n",
    "if 10<=pkg<=19:\n",
    "    discount_amount= (pkg*99) * (10/100)\n",
    "    print(\"Discount is 10% and your purchase after discount= \" + str( (pkg*99 - discount_amount) ) )\n",
    "elif 20<=pkg<=49:\n",
    "    discount_amount= (pkg*99) * (20/100)\n",
    "    print(\"Discount is 20% and your purchase after discount= \" + str( (pkg*99 - discount_amount) ) )\n",
    "elif 50<= pkg <= 99:\n",
    "    discount_amount= (pkg*99) * (30/100)\n",
    "    print(\"Discount is 30% and your purchase after discount= \" +str( (pkg*99 - discount_amount) ) )\n",
    "elif 100<=pkg:\n",
    "    discount_amount= (pkg*99) * (40/100)\n",
    "    print(\"Discount is 40% and your purchase after discount= \" + str( (pkg*99 - discount-amount) ) )\n",
    "else:\n",
    "    print(\"no discount\")"
   ]
  },
  {
   "cell_type": "markdown",
   "id": "24e7e036",
   "metadata": {},
   "source": [
    "#### 4. Stadium Seating\n",
    "\n",
    "There are three seating categories at a stadium. Class A seats cost $20, Class B seats cost $15, and Class C seats cost $10. Write a program that asks how many tickets for each class of seats were sold, then calls a function that displays the amount of income generated from ticket sales."
   ]
  },
  {
   "cell_type": "code",
   "execution_count": 96,
   "id": "c03fc65f",
   "metadata": {},
   "outputs": [
    {
     "name": "stdin",
     "output_type": "stream",
     "text": [
      "Enter ticket num of class a: 1\n",
      "Enter ticket num of class b: 4\n",
      "Enter ticket num of class c: 3\n"
     ]
    },
    {
     "name": "stdout",
     "output_type": "stream",
     "text": [
      "110\n"
     ]
    }
   ],
   "source": [
    "# Write your answer for Q4 Here\n",
    "class_a= int(input(\"Enter ticket num of class a:\"))\n",
    "class_b= int(input(\"Enter ticket num of class b:\"))\n",
    "class_c= int(input(\"Enter ticket num of class c:\"))\n",
    "\n",
    "\n",
    "def  classabc (class_a, class_b, class_c):\n",
    "    print( (class_a * 20) + (class_b * 15) + (class_c * 10))\n",
    "\n",
    "\n",
    "classabc(class_a, class_b, class_c)\n",
    "    "
   ]
  },
  {
   "cell_type": "markdown",
   "id": "66d9c7e2",
   "metadata": {},
   "source": [
    "#### 5. Bug Collector\n",
    "\n",
    "A bug collector collects bugs every day for five days. Write a program that keeps a running total of the number of bugs collected during the five days. The loop should ask for the number of bugs collected for each day, and when the loop is finished, the program should display the total number of bugs collected."
   ]
  },
  {
   "cell_type": "code",
   "execution_count": 98,
   "id": "5e95779f",
   "metadata": {},
   "outputs": [
    {
     "name": "stdin",
     "output_type": "stream",
     "text": [
      "Enter bug collected in day1 2\n",
      "Enter bug collected in day2 3\n",
      "Enter bug collected in day3 4\n",
      "Enter bug collected in day4 1\n",
      "Enter bug collected in day5 5\n"
     ]
    },
    {
     "name": "stdout",
     "output_type": "stream",
     "text": [
      "15\n"
     ]
    }
   ],
   "source": [
    "# Write your answer for Q5 Here\n",
    "\n",
    "bug_collector=0\n",
    "\n",
    "for count in range (1,6):\n",
    "    bug= int(input(\"Enter bug collected in day\" + str(count)) )\n",
    "    bug_collector= bug_collector+bug\n",
    "    count=count-1\n",
    "\n",
    "print(bug_collector)"
   ]
  },
  {
   "cell_type": "markdown",
   "id": "2ee39fea-86d2-4480-97a1-3777867077e2",
   "metadata": {},
   "source": [
    "#### 6. Pennies for Pay\n",
    "\n",
    "Write a program that calculates the amount of money a person would earn over a period of time if his or her salary is one penny the first day, two pennies the second day, and continues to double each day. The program should ask the user for the number of days. Display a table showing what the salary was for each day, then show the total pay at the end of the period. The output should be displayed in a dollar amount, not the number of pennies.\n"
   ]
  },
  {
   "cell_type": "code",
   "execution_count": 129,
   "id": "87b3c68b",
   "metadata": {},
   "outputs": [
    {
     "name": "stdin",
     "output_type": "stream",
     "text": [
      "Number of days=  7\n"
     ]
    },
    {
     "name": "stdout",
     "output_type": "stream",
     "text": [
      "day 1salary is 0.01\n",
      "day 2salary is 0.02\n",
      "day 3salary is 0.04\n",
      "day 4salary is 0.08\n",
      "day 5salary is 0.16\n",
      "day 6salary is 0.32\n",
      "day 7salary is 0.64\n",
      "Your total salary is $ 1.27\n"
     ]
    }
   ],
   "source": [
    "# Write your answer for Q6 Here\n",
    "\n",
    "\n",
    "num_of_days = int(input(\"Number of days= \"))\n",
    "salary = 0.01\n",
    "total_salary=0 \n",
    "\n",
    "for day in range (1, num_of_days+1):\n",
    "    print(\"day \"+str(day)+ \"salary is \"+str(salary))\n",
    "    total_salary+=salary\n",
    "    salary=salary*2\n",
    "\n",
    "if total_salary >= 100:\n",
    "    print(\"Your total salary is $ \"+ str(total_salary/100))\n",
    "\n",
    "else:\n",
    "    print(\"Your total salary is $ \"+ str(total_salary)) \n",
    "\n",
    "    \n"
   ]
  },
  {
   "cell_type": "markdown",
   "id": "284bdab2",
   "metadata": {},
   "source": [
    "#### 7. Calculating the Factorial of a Number\n",
    "\n",
    "In mathematics, the notation n! represents the factorial of the nonnegative integer n. The factorial of n is the product of all the nonnegative integers from 1 to n. For example,\n",
    "7! = 1 * 2 * 3 * 4 * 5 * 6 * 7 = 5,040\n",
    "and\n",
    "4! = 1 * 2 * 3 * 4 = 24\n",
    "Write a program that lets the user enter a nonnegative integer then uses a loop to calculate the factorial of that number. Display the factorial.\n"
   ]
  },
  {
   "cell_type": "code",
   "execution_count": 102,
   "id": "995f8f0b",
   "metadata": {},
   "outputs": [
    {
     "name": "stdin",
     "output_type": "stream",
     "text": [
      "Enter nonnegative number=  2\n"
     ]
    },
    {
     "data": {
      "text/plain": [
       "2"
      ]
     },
     "execution_count": 102,
     "metadata": {},
     "output_type": "execute_result"
    }
   ],
   "source": [
    "# Write your answer for Q7 Here\n",
    "number = int(input(\"Enter nonnegative number= \"))\n",
    "\n",
    "def factorial(number):\n",
    "    if number <0:\n",
    "        number = int(input(\"error, please enter a nonnegative number= \"))\n",
    "        \n",
    "    elif number ==1 or number ==0:\n",
    "        return 1\n",
    "        \n",
    "    else:\n",
    "        return number * factorial(number-1)\n",
    "        \n",
    "            \n",
    "factorial(number)   \n"
   ]
  },
  {
   "cell_type": "code",
   "execution_count": null,
   "id": "a0ec8aa2-ee3f-475f-afd7-02a2bacc9993",
   "metadata": {},
   "outputs": [],
   "source": []
  }
 ],
 "metadata": {
  "kernelspec": {
   "display_name": "Python 3 (ipykernel)",
   "language": "python",
   "name": "python3"
  },
  "language_info": {
   "codemirror_mode": {
    "name": "ipython",
    "version": 3
   },
   "file_extension": ".py",
   "mimetype": "text/x-python",
   "name": "python",
   "nbconvert_exporter": "python",
   "pygments_lexer": "ipython3",
   "version": "3.12.4"
  }
 },
 "nbformat": 4,
 "nbformat_minor": 5
}
